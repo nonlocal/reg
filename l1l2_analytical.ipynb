{
 "cells": [
  {
   "cell_type": "markdown",
   "metadata": {},
   "source": [
    "## In this notebook, we will analyse the difference between $L_1$ and $L_2$ regularization in a mathematical way:"
   ]
  },
  {
   "cell_type": "markdown",
   "metadata": {},
   "source": [
    "Let's say our original error function is: $$E_0 = \\sum_i^n (h(x_i) - y_i)^2$$ where $h(.)$ is the hypothesis."
   ]
  },
  {
   "cell_type": "markdown",
   "metadata": {},
   "source": [
    "And we decide to regularize it: once with $L_1$ regularization and once with $L_2$regularization.\n",
    "\n",
    "Let the respective error functions be $E_1$ and $E_2$. Then for $0 <\\lambda < 1$,"
   ]
  },
  {
   "cell_type": "markdown",
   "metadata": {},
   "source": [
    "$E_1$ looks like: $$ E_1 = E_0 + \\lambda|w| $$"
   ]
  },
  {
   "cell_type": "markdown",
   "metadata": {},
   "source": [
    "$E_2$ like: $$E_2 = E_0 + \\frac{\\lambda w^2}{2}$$"
   ]
  },
  {
   "cell_type": "markdown",
   "metadata": {},
   "source": [
    "Here, the update rules under such constraints look like:"
   ]
  },
  {
   "cell_type": "markdown",
   "metadata": {},
   "source": [
    "For $L_1$: $$ w_i^1 \\leftarrow w_i -\\frac{\\delta E_1}{\\delta w_i} $$"
   ]
  },
  {
   "cell_type": "markdown",
   "metadata": {},
   "source": [
    "For $L_2$: $$ w_i^2 \\leftarrow w_i -\\frac{\\delta E_2}{\\delta w_i} $$"
   ]
  },
  {
   "cell_type": "markdown",
   "metadata": {},
   "source": [
    "Superscript denotes the kind of regularization used to get the new value of $w_i$."
   ]
  },
  {
   "cell_type": "markdown",
   "metadata": {},
   "source": [
    "Which in turn looks like:"
   ]
  },
  {
   "cell_type": "markdown",
   "metadata": {},
   "source": [
    "(1) $$ w_i^1 \\leftarrow w_i - \\frac{\\delta E_0}{\\delta w_i} - \\frac{\\lambda  \\delta |w|}{\\delta w_i} $$"
   ]
  },
  {
   "cell_type": "markdown",
   "metadata": {},
   "source": [
    "(2) $$ w_i^2 \\leftarrow w_i - \\frac{\\delta E_0}{\\delta w_i} - \\frac{\\lambda  \\delta w^2}{2 \\delta w_i} $$"
   ]
  },
  {
   "cell_type": "markdown",
   "metadata": {},
   "source": [
    "The update rules become"
   ]
  },
  {
   "cell_type": "markdown",
   "metadata": {},
   "source": [
    "(3a) $$ w_i^1 \\leftarrow  w_i - \\frac{\\delta E_0}{\\delta w_i} - \\lambda   \\quad if \\quad w_i >0$$\n",
    "\n",
    "(3b)  $$ w_i^1 \\leftarrow  w_i - \\frac{\\delta E_0}{\\delta w_i} + \\lambda  \\quad if \\quad w_i <0 $$"
   ]
  },
  {
   "cell_type": "markdown",
   "metadata": {},
   "source": [
    "(4) $$ w_i^2 \\leftarrow w_i - \\frac{\\delta E_0}{\\delta w_i} - \\lambda w_i $$"
   ]
  },
  {
   "cell_type": "markdown",
   "metadata": {},
   "source": [
    "## Now"
   ]
  },
  {
   "cell_type": "markdown",
   "metadata": {},
   "source": [
    "Consider $ Eq.(3a) \\& (4)$\n",
    "\n",
    "i.e. for $w_i >0$"
   ]
  },
  {
   "cell_type": "markdown",
   "metadata": {},
   "source": [
    "The effective expression for update rules for $L_1$ and $L_2$ resp. are as follows"
   ]
  },
  {
   "cell_type": "markdown",
   "metadata": {},
   "source": [
    "$$ w_i^1 \\leftarrow w_i - \\lambda $$\n",
    "$$ w_i^2 \\leftarrow w_i - \\lambda w_i $$"
   ]
  },
  {
   "cell_type": "markdown",
   "metadata": {},
   "source": [
    "Because the contribution from $ \\frac{\\delta E_0}{\\delta w_i}$ is same in both the cases, there's no point to include it for comparison."
   ]
  },
  {
   "cell_type": "markdown",
   "metadata": {},
   "source": [
    "Now, $w_i$s are reduced: \n",
    "\n",
    "1) by an amount $\\lambda$ to get to $w_i^1$ and\n",
    "\n",
    "2) by an amount $\\lambda w_i$ to get to $w_i^2$"
   ]
  },
  {
   "cell_type": "markdown",
   "metadata": {},
   "source": [
    "Here we have $0< \\lambda < 1 \\quad and \\quad 0< w_i < 1 \\implies \\lambda w_i < \\lambda$."
   ]
  },
  {
   "cell_type": "markdown",
   "metadata": {},
   "source": [
    "Which means the (positive) weights via the $L_1$ regularizer are updated (i.e. decreased towards $0$) by a larger amount (=$\\lambda$) than via the $L_2$ regularizer(=$\\lambda w_i$)."
   ]
  },
  {
   "cell_type": "markdown",
   "metadata": {},
   "source": [
    "So for a fixed number of updates, the (positive) weights obtained by $L_1$ will be much closer to $0$ than those obtained by $L_2$."
   ]
  },
  {
   "cell_type": "markdown",
   "metadata": {},
   "source": [
    "Hence the \"saying\" that $L_1$'s weights are \"sparse\" compared to $L_2$'s. Because $L_2$ hasn't made the same **amount** of updates to its weights to get them to $0$. Which it can not in the first place, becuase the update value is tied with its current value."
   ]
  },
  {
   "cell_type": "markdown",
   "metadata": {},
   "source": [
    "$L_2$ regularizer is decreasing the weights as well but at a slower rate and in propoertion to its current value."
   ]
  },
  {
   "cell_type": "markdown",
   "metadata": {},
   "source": [
    "Similar analysis extends for the case of Eq.(3b) & (4) i.e. for $w_i <0$"
   ]
  }
 ],
 "metadata": {
  "kernelspec": {
   "display_name": "Python 2",
   "language": "python",
   "name": "python2"
  },
  "language_info": {
   "codemirror_mode": {
    "name": "ipython",
    "version": 2
   },
   "file_extension": ".py",
   "mimetype": "text/x-python",
   "name": "python",
   "nbconvert_exporter": "python",
   "pygments_lexer": "ipython2",
   "version": "2.7.13"
  }
 },
 "nbformat": 4,
 "nbformat_minor": 2
}
